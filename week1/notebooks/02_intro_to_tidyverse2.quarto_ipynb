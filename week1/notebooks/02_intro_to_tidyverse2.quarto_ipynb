{
  "cells": [
    {
      "cell_type": "markdown",
      "metadata": {},
      "source": [
        "---\n",
        "title: \"tidyverse intro\"\n",
        "author: \"Jeremy Mikecz\"\n",
        "format: html\n",
        "editor: visual\n",
        "jupyter: ir\n",
        "---\n",
        "\n",
        "\n",
        "# Introduction to Tidyverse\n",
        "\n",
        "Tidyverse is a system of R packages for data wrangling and analysis. It provides a different method and syntax for working with data tables (often called \"data frames\" in data science; but, tidyverse dataframes are known as \"tibbles\") from base R.\n",
        "\n",
        "For additional help learning how to use R's tidyverse system of packages, see:\n",
        "\n",
        "-   Wickham, Çetinkaya-Rundel, and Grolemund, [*R for Data Science*](https://r4ds.hadley.nz/)\n",
        "\n",
        "-   Grolemund, [A Tidyverse Cookbook](https://rstudio-education.github.io/tidyverse-cookbook/) (2020).\n",
        "\n",
        "-   package documentation: [tidyverse](https://tidyverse.tidyverse.org/)\n",
        "\n",
        "-   [tidyr cheatsheet](https://github.com/rstudio/cheatsheets/blob/main/tidyr.pdf)\n",
        "\n",
        "-   [*Tidyverse style guide*](https://style.tidyverse.org/)\n",
        "\n",
        "For a more detailed introduction to working with tidy data in R see:\n",
        "\n",
        "-   Wickham, Çetinkaya-Rundel, and Grolemund, *R for Data Science*, Ch. 5 [\"Data Tidying\"](https://r4ds.hadley.nz/data-tidy).\n",
        "\n",
        "-   Grolemund, [A Tidyverse Cookbook](https://rstudio-education.github.io/tidyverse-cookbook/) (2020).\n",
        "\n",
        "-   Silge and Robinson, [Text Mining with R](https://www.tidytextmining.com/), Ch. 1 \"The tidy text format\".\n",
        "\n",
        "## *Optional*: Working with Virtual Environments\n",
        "\n",
        "If you are using R for a variety of different projects, you may risk encountering dependency conflicts. These occur when you may need Package *A* for a text analysis project and that package requires version 1.0 of Package *B*, while Package *C* for a machine-learning projects requires version 2.0 of Package *B*.\n",
        "\n",
        "Setting up a virtual environment allows you to avoid such conflicts. Often, programmers use a different virtual environment for each project (and each project should be stored in a separate project folder). This also provides another benefit. When sharing code with others, programmers can send a list of packages (and their specific versions) to collaborators so that they can reproduce the exact same environment on their machines. This, in turn, ensures that the experience of running the team's code is exactly the same for project members each working on their own computers.\n",
        "\n",
        "In Python, users typically use the **venv** library to create and use virtual environments. In R, users often use the **Packrat** library / package.\n",
        "\n",
        "To set up a local virtual environment with packrat:\\\\\n",
        "\n",
        "1.  First, install packrat using `install.packages(\"packrat\")`.\n",
        "2.  From within your project folder, initialize it using the command `packrat::init()`.\n",
        "3.  R should activite your new virtual environment automatically whenever you work in that project folder. To ensure it is activated, however, you can run the code `packrat::on()`. To deactivate, simply run `packrat::off()`.\n"
      ],
      "id": "11726a9c"
    },
    {
      "cell_type": "code",
      "metadata": {},
      "source": [
        "#install.packages(\"packrat\")\n",
        "#packrat::init()\n",
        "#packrat::on"
      ],
      "id": "fb1a081c",
      "execution_count": null,
      "outputs": []
    },
    {
      "cell_type": "markdown",
      "metadata": {},
      "source": [
        "## Getting Started with Tidyverse\n",
        "\n",
        "Data analysis usually involves working with two-dimensional datasets known as dataframes. There are different ways to work with dataframes in R, these include:\n",
        "\n",
        "-   using core R dataframe functions\n",
        "\n",
        "-   using the **tibble** a type of dataframe used with the tidyverse collection of packages\n",
        "\n",
        "-   using other dataframe types like **data.table** for speed and to facilitate working with large datasets (i.e. with millions of rows)\n",
        "\n",
        "In these lessons, we will work with [tidyverse](https://www.tidyverse.org/) a collection of packages designed for data science. Tidyverse works with **tibbles**, a customized and newer form of dataframes. For more on the differences between tibbles and dataframes see the [explanation here](https://r4ds.had.co.nz/tibbles.html). Key packages in tidyverse include (borrowing from Kyle Walker's [**Analyzing US Census Data: Methods, Maps, and Models in R**](https://walker-data.com/census-r/index.html)**)**:\n",
        "\n",
        "```         \n",
        "    * readr (Wickham and Hester 2021), which contains tools for importing and exporting datasets;\n",
        "\n",
        "    * dplyr (Wickham et al. 2021), a powerful framework for data wrangling tasks;\n",
        "\n",
        "    * tidyr (Wickham 2021b), a package for reshaping data;\n",
        "\n",
        "    * purrr (Henry and Wickham 2020), a comprehensive framework for functional programming and iteration;\n",
        "\n",
        "    * ggplot2 (Wickham 2016), a data visualization package based on the Grammar of Graphics\n",
        "```\n"
      ],
      "id": "f6c123d1"
    },
    {
      "cell_type": "code",
      "metadata": {},
      "source": [
        "## install tidyverse with:\n",
        "#install.packages(\"tidyverse\")\n",
        "\n",
        "## update tidyverse with:\n",
        "#tidyverse_update()\n",
        "\n",
        "## import tidyverse with:\n",
        "library(tidyverse)\n",
        "\n",
        "## see what packages are included with tidyverse:\n",
        "tidyverse_packages()"
      ],
      "id": "5c77905f",
      "execution_count": null,
      "outputs": []
    },
    {
      "cell_type": "markdown",
      "metadata": {},
      "source": [
        "## Combine functions into a pipe\n",
        "\n",
        "Using the symbol `|>` we can chain multiple functions together.\n",
        "\n",
        "::: callout.note\n",
        "Previously, `%>%` was commonly used for pipes. Now, it is recommended to use `|>` instead. In R Studio, you can use the keyboard shortcut `CTRL/CMD + SHIFT + M` to create a pipe. However, you can update R Studio's default pipe using the instructions in *R for Data Science*, [Ch. 3.4](https://r4ds.hadley.nz/data-transform.html#sec-the-pipe).\n",
        ":::\n",
        "\n",
        "Each new function in the pipeline operates on the results produced by the previous function.\n",
        "\n",
        "Chaining functions together in a pipe like this:\n",
        "\n",
        "```         \n",
        "starwars |>\n",
        "  group_by(species) |>\n",
        "  summarise(avg_height = mean(height, na.rm = TRUE)) |>\n",
        "  arrange(avg_height)\n",
        "```\n"
      ],
      "id": "5db92f73"
    },
    {
      "cell_type": "code",
      "metadata": {},
      "source": [
        "starwars |>\n",
        "  group_by(species) |>\n",
        "  summarise(avg_height = mean(height, na.rm = TRUE)) |>\n",
        "  arrange(avg_height)"
      ],
      "id": "50d67c21",
      "execution_count": null,
      "outputs": []
    },
    {
      "cell_type": "markdown",
      "metadata": {},
      "source": [
        "produces the same results as nesting a series of functions within another:\n",
        "\n",
        "```         \n",
        "arrange(\n",
        "  summarise(\n",
        "    group_by(starwars, species), \n",
        "    avg_height = mean(height, na.rm = TRUE)\n",
        "  ), \n",
        "  avg_height\n",
        ")\n",
        "```\n",
        "\n",
        "or calling each function in order:\n",
        "\n",
        "```         \n",
        "x1 <- starwars \n",
        "x2 <- group_by(x1, species)\n",
        "x3 <- summarise(x3, avg_height = mean(height, na.rm = TRUE))\n",
        "arrange(x3, avg_height)\n",
        "```\n",
        "\n",
        "By default `|>` passes the result of the left hand side to the the first unnamed argument of the function on the right hand side. To override this default, use `_` as a placeholder within the function call on the right hand side. `|>` will evaluate `_` as the result of the left hand side, instead of passing the result to the first unnamed argument.\n"
      ],
      "id": "933cd5b8"
    },
    {
      "cell_type": "code",
      "metadata": {},
      "source": [
        "starwars |>\n",
        "  lm(mass ~ height, data = _)\n",
        "\n",
        "# the old piping syntax\n",
        "#starwars %>%\n",
        "#  lm(mass ~ height, data = .)"
      ],
      "id": "50f72669",
      "execution_count": null,
      "outputs": []
    },
    {
      "cell_type": "markdown",
      "metadata": {},
      "source": [
        "```         \n",
        "```\n",
        "\n",
        "## Tidy Data\n",
        "\n",
        "From the [Tidyverse cookbook](https://rstudio-education.github.io/tidyverse-cookbook/tidy.html):\n",
        "\n",
        "Data tidying refers to reshaping your data into a tidy data frame or [tibble](https://rstudio-education.github.io/tidyverse-cookbook/how-to-use-this-book.html#tidy-data). Data tidying is an important first step for your analysis because every tidyverse function will expect your data to be stored as **Tidy Data**.\n",
        "\n",
        "Tidy data is tabular data organized so that:\n",
        "\n",
        "1.  Each column contains a single variable\n",
        "\n",
        "2.  Each row contains a single observation\n",
        "\n",
        "Tidy data is not an arbitrary requirement of the tidyverse; it is the ideal data format for doing data science with R. Tidy data makes it easy to extract every value of a variable to build a plot or to compute a summary statistic. Tidy data also makes it easy to compute new variables; when your data is tidy, you can rely on R's rowwise operations to maintain the integrity of your observations. Moreover, R can directly manipulate tidy data with R's fast, built-in vectorised observations, which lets your code run as fast as possible.\n",
        "\n",
        "The definition of Tidy Data isn't complete until you define variable and observation, so let's borrow two definitions from [*R for Data Science*](https://r4ds.had.co.nz/exploratory-data-analysis.html):\n",
        "\n",
        "1.  A **variable** is a quantity, quality, or property that you can measure.\n",
        "\n",
        "2.  An **observation** is a set of measurements made under similar conditions (you usually make all of the measurements in an observation at the same time and on the same object).\n",
        "\n",
        "As you work with data, you will be surprised to realize that what is a variable (or observation) will depend less on the data itself and more on what you are trying to do with it. With enough mental flexibility, you can consider anything to be a variable. However, some variables will be more useful than others for any specific task. In general, if you can formulate your task as an equation (math or code that contains an equals sign), the most useful variables will be the names in the equation.\n",
        "\n",
        "### Create a tibble from scratch\n",
        "\n",
        "Rarely will you ever create a dataframe or tibble from scratch except to create small practice datasets.\n",
        "\n",
        "Here, we create a small practice dataset about the popular murder mystery TV show, [*Only Murders in the Building*](https://www.imdb.com/title/tt11691774/)\n"
      ],
      "id": "2f2f137c"
    },
    {
      "cell_type": "code",
      "metadata": {},
      "source": [
        "omitb <- tribble(~name, ~occupation, ~apartment, ~is_suspect, ~is_dead,\n",
        "            \"Charles\", \"washed-up actor\", \"14C\", \"no\", \"no\",\n",
        "            \"Mabel\", \"unemployed never-was\", \"12E\", \"maybe\", \"no\",\n",
        "            \"Oliver\", \"theater director\", \"10D\", \"no\", \"no\",\n",
        "            \"Howard\", \"childless cat guy\", \"3D\", \"yes\", \"no\",\n",
        "            \"Bunny\", \"petty despot\", \"12A\", \"no\", \"maybe\"\n",
        ")\n",
        "omitb"
      ],
      "id": "5b72e3e5",
      "execution_count": null,
      "outputs": []
    },
    {
      "cell_type": "markdown",
      "metadata": {},
      "source": [
        "We can add a new row by piping the function **add_row.** To figure out how do so, we can review the [function's documentation](https://tibble.tidyverse.org/reference/add_row.html). Note: the default is to add the new row to the bottom of the tibble. To add it before the first row we need to set the argument `.before = 1`.\n"
      ],
      "id": "7b4fe503"
    },
    {
      "cell_type": "code",
      "metadata": {},
      "source": [
        "omitb <- omitb |>\n",
        "  add_row(name=\"Jan\", occupation = \"2nd-chair basoonist\", \n",
        "          is_suspect=\"yes\", is_dead=\"no\", .before=1)\n",
        "\n",
        "omitb"
      ],
      "id": "2654e924",
      "execution_count": null,
      "outputs": []
    },
    {
      "cell_type": "markdown",
      "metadata": {},
      "source": [
        "Above we used the **tribble** function to create a **tibble** (tribble vs. tibble - confusing right?) by using a syntax that lines up the rows neatly in a way that will preview the result.\n",
        "\n",
        "You can also create the same tibble using the **tibble** function and passing in a list with the values of column:\n"
      ],
      "id": "1525273a"
    },
    {
      "cell_type": "code",
      "metadata": {},
      "source": [
        "tibble(name = c(\"Charles\", \"Mabel\", \"Oliver\", \"Howard\", \"Bunny\"),\n",
        "       occupation = c(\"washed-up actor\", \"unemployed never-was\", \"theater director\", \"childless cat guy\", \"petty despot\"),\n",
        "       apartment = c(\"14C\", \"12E\", \"10D\", \"3D\", \"12A\"),\n",
        "       is_suspect = c(\"no\", \"no\", \"no\", \"yes\", \"no\"),\n",
        "       is_dead = c(\"no\", \"no\", \"no\", \"no\", \"maybe\"),\n",
        "       )"
      ],
      "id": "c7047263",
      "execution_count": null,
      "outputs": []
    },
    {
      "cell_type": "markdown",
      "metadata": {},
      "source": [
        "## Dataframes vs. tibbles\n"
      ],
      "id": "ea002dce"
    },
    {
      "cell_type": "code",
      "metadata": {},
      "source": [
        "df <- read.csv(\"../data/census1970.csv\") "
      ],
      "id": "7f69480f",
      "execution_count": null,
      "outputs": []
    },
    {
      "cell_type": "markdown",
      "metadata": {},
      "source": [
        "### Convert a dataframe into a tibble\n"
      ],
      "id": "79c8d2d4"
    },
    {
      "cell_type": "code",
      "metadata": {},
      "source": [
        "head(df)"
      ],
      "id": "29ab4823",
      "execution_count": null,
      "outputs": []
    },
    {
      "cell_type": "code",
      "metadata": {},
      "source": [
        "df2tib <- as_tibble(df)"
      ],
      "id": "ca564624",
      "execution_count": null,
      "outputs": []
    },
    {
      "cell_type": "markdown",
      "metadata": {},
      "source": [
        "## 3. Tidyverse / dplyr verbs for Data Wrangling\n",
        "\n",
        "To modify and \"wrangle\" datasets, the tidyverse commonly uses the following verbs / functions:\n",
        "\n",
        "-   **select()**: to select specific columns by their names or data types\n",
        "\n",
        "-   **arrange()**: to order rows by one or more columns\n",
        "\n",
        "-   **rename()**: to rename columns\n",
        "\n",
        "-   **mutate()**: to create columns\n",
        "\n",
        "-   **filter()**: to filter out rows by a given condition\n",
        "\n",
        "-   **distinct()**: to keep only distinct / unique rows\n",
        "\n",
        "-   **gather()**: to make \"wide\" data longer\n",
        "\n",
        "-   **spread()**: to make \"long\" data wider\n",
        "\n",
        "-   **separate()**: to split a single column into multiple columns\n",
        "\n",
        "-   **unite()**: to combine multiple columns into one\n",
        "\n",
        "[More tidyverse verbs and functions here](https://dplyr.tidyverse.org/reference/index.html).\n",
        "\n",
        "# Common Data Science Operations in Tidyverse\n",
        "\n",
        "+------------------------------------+------------------------------------------+----------------------------+---------------------------------+\n",
        "| Task                               | Python - Pandas                          | Base R                     | Tidyverse (R)                   |\n",
        "+====================================+==========================================+============================+=================================+\n",
        "| **Sort table by column**           | df.sort_values('col')                    | sort(df\\$col)              | df %\\>%                         |\n",
        "|                                    |                                          |                            |                                 |\n",
        "|                                    |                                          |                            | arrange(col)                    |\n",
        "+------------------------------------+------------------------------------------+----------------------------+---------------------------------+\n",
        "| **Filter rows**                    | df.loc\\[df\\['col'\\]\\>0,:\\]               | df\\[df\\[col\\] \\> 0, \\]     | df %\\>%                         |\n",
        "|                                    |                                          |                            |                                 |\n",
        "|                                    |                                          |                            | filter(col \\> 0)                |\n",
        "+------------------------------------+------------------------------------------+----------------------------+---------------------------------+\n",
        "| **Subset columns**                 |                                          |                            | df %\\>%                         |\n",
        "|                                    |                                          |                            |                                 |\n",
        "|                                    |                                          |                            | select(col)                     |\n",
        "+------------------------------------+------------------------------------------+----------------------------+---------------------------------+\n",
        "| **Create a new column**            | df.loc\\[:, \"square\"\\] = df\\[col\\] \\*\\* 2 | df\\$square = df\\[col\\] \\^2 | df %\\>%                         |\n",
        "|                                    |                                          |                            |                                 |\n",
        "|                                    |                                          |                            | mutate(square = col \\^ 2)       |\n",
        "+------------------------------------+------------------------------------------+----------------------------+---------------------------------+\n",
        "| **Perform calculation on column**  | sum(df\\[\"col\"\\])                         | sum(df\\$col)               | df %\\>%                         |\n",
        "|                                    |                                          |                            |                                 |\n",
        "|                                    |                                          |                            | summarise(sumcol = sum(col))    |\n",
        "+------------------------------------+------------------------------------------+----------------------------+---------------------------------+\n",
        "| **Delete duplicate rows**          | df.drop_duplicates()                     | df\\[!duplicated(df), \\]    | df %\\>%                         |\n",
        "|                                    |                                          |                            |                                 |\n",
        "|                                    |                                          |                            | distinct()                      |\n",
        "+------------------------------------+------------------------------------------+----------------------------+---------------------------------+\n",
        "| **Group/Apply/Combine**            | df.groupby(\"col\").sum()                  | by(df, col, sum(x))        | df %\\>%                         |\n",
        "|                                    |                                          |                            |                                 |\n",
        "|                                    |                                          | ???                        | group_by(col) %\\>%              |\n",
        "|                                    |                                          |                            |                                 |\n",
        "|                                    |                                          |                            | summarise(groupsum = sum(col2)) |\n",
        "+------------------------------------+------------------------------------------+----------------------------+---------------------------------+\n",
        "| **Reshape data from wide to long** | *pd.wide_to_long()*                      | *melt()*                   | *use pivot_longer()*            |\n",
        "+------------------------------------+------------------------------------------+----------------------------+---------------------------------+\n",
        "\n",
        "## Sort Table (tibble)\n"
      ],
      "id": "d7cd8a09"
    },
    {
      "cell_type": "code",
      "metadata": {},
      "source": [
        "starwars |>\n",
        "  arrange(homeworld)  #descending order: arrange(desc(homeworld))"
      ],
      "id": "f431efb0",
      "execution_count": null,
      "outputs": []
    },
    {
      "cell_type": "markdown",
      "metadata": {},
      "source": [
        "## Filter Table\n"
      ],
      "id": "5ef999a1"
    },
    {
      "cell_type": "code",
      "metadata": {},
      "source": [
        "starwars |>\n",
        "  filter(species==\"Droid\")"
      ],
      "id": "5703a22d",
      "execution_count": null,
      "outputs": []
    },
    {
      "cell_type": "markdown",
      "metadata": {},
      "source": [
        "## Subset Tibble by Column Names\n"
      ],
      "id": "b936fefc"
    },
    {
      "cell_type": "code",
      "metadata": {},
      "source": [
        "starwars |>\n",
        "  select(name, homeworld, species)  #reorder names here to reorder columns"
      ],
      "id": "4c7e7efb",
      "execution_count": null,
      "outputs": []
    },
    {
      "cell_type": "markdown",
      "metadata": {},
      "source": [
        "### For a range of columns\n"
      ],
      "id": "ee3b0096"
    },
    {
      "cell_type": "code",
      "metadata": {},
      "source": [
        "starwars |>\n",
        "  select(name:hair_color, species)"
      ],
      "id": "ce204751",
      "execution_count": null,
      "outputs": []
    },
    {
      "cell_type": "markdown",
      "metadata": {},
      "source": [
        "### Rename columns\n"
      ],
      "id": "f32379f2"
    },
    {
      "cell_type": "code",
      "metadata": {},
      "source": [
        "starwars |>\n",
        "  rename(character = name, planet = homeworld)"
      ],
      "id": "adea5cd1",
      "execution_count": null,
      "outputs": []
    },
    {
      "cell_type": "code",
      "metadata": {},
      "source": [
        "starwars$vehicles[1]"
      ],
      "id": "0a0432e4",
      "execution_count": null,
      "outputs": []
    },
    {
      "cell_type": "markdown",
      "metadata": {},
      "source": [
        "## Split-Apply-Combine\n"
      ],
      "id": "b69ec7b2"
    },
    {
      "cell_type": "code",
      "metadata": {},
      "source": [
        "starwars |>\n",
        "  group_by(species)"
      ],
      "id": "b607378e",
      "execution_count": null,
      "outputs": []
    },
    {
      "cell_type": "code",
      "metadata": {},
      "source": [
        "starwars |> \n",
        "  group_by(species) |>\n",
        "  summarise(avg_height = mean(height, na.rm = TRUE)) "
      ],
      "id": "ea3b7ef2",
      "execution_count": null,
      "outputs": []
    },
    {
      "cell_type": "code",
      "metadata": {},
      "source": [
        "starwars |>    \n",
        "  group_by(species) |>   \n",
        "  summarise(avg_height = mean(height, na.rm = TRUE)) |>  \n",
        "  arrange(avg_height) "
      ],
      "id": "c516c2a8",
      "execution_count": null,
      "outputs": []
    }
  ],
  "metadata": {
    "kernelspec": {
      "name": "ir",
      "language": "R",
      "display_name": "R",
      "path": "C:\\ProgramData\\jupyter\\kernels\\ir"
    }
  },
  "nbformat": 4,
  "nbformat_minor": 5
}