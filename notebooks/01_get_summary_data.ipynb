{
  "cells": [
    {
      "cell_type": "markdown",
      "metadata": {},
      "source": [
        "---\n",
        "title: \"Summary Data\"\n",
        "author: \"Jeremy Mikecz\"\n",
        "format: html\n",
        "#editor: visual\n",
        "jupyter: ir\n",
        "---\n",
        "\n",
        "# Get Summary Data (Practice with preloaded datasets)\n",
        "\n",
        "## 1. Retrieve Pre-loaded Datasets\n",
        "\n",
        "Base R and some of its core data science packages (like tidyverse and its dependencies) come with preloaded datasets. We can use these preloaded to practice our data science skills.\n",
        "\n",
        "First, to view the available preloaded datasets, run the following cell:"
      ]
    },
    {
      "cell_type": "code",
      "metadata": {},
      "source": [
        "data()"
      ],
      "execution_count": null,
      "outputs": []
    },
    {
      "cell_type": "code",
      "metadata": {},
      "source": [
        "help(starwars) "
      ],
      "execution_count": null,
      "outputs": []
    },
    {
      "cell_type": "markdown",
      "metadata": {},
      "source": [
        "In this lesson we will work with the **Star Wars** dataset that loads with the **dplyr** library (part of the tidyverse package)."
      ]
    },
    {
      "cell_type": "code",
      "metadata": {},
      "source": [
        "starwars"
      ],
      "execution_count": null,
      "outputs": []
    },
    {
      "cell_type": "markdown",
      "metadata": {},
      "source": [
        "## Get Summary Data about a Dataframe"
      ]
    },
    {
      "cell_type": "code",
      "metadata": {},
      "source": [
        "head(starwars)"
      ],
      "execution_count": null,
      "outputs": []
    },
    {
      "cell_type": "code",
      "metadata": {},
      "source": [
        "dim(starwars) "
      ],
      "execution_count": null,
      "outputs": []
    },
    {
      "cell_type": "code",
      "metadata": {},
      "source": [
        "colnames(starwars)"
      ],
      "execution_count": null,
      "outputs": []
    },
    {
      "cell_type": "code",
      "metadata": {},
      "source": [
        "table(starwars$species)"
      ],
      "execution_count": null,
      "outputs": []
    },
    {
      "cell_type": "code",
      "metadata": {},
      "source": [
        "xtabs(data=starwars, ~species + homeworld) "
      ],
      "execution_count": null,
      "outputs": []
    },
    {
      "cell_type": "code",
      "metadata": {},
      "source": [
        "summary(starwars)"
      ],
      "execution_count": null,
      "outputs": []
    },
    {
      "cell_type": "markdown",
      "metadata": {},
      "source": [
        "## \n",
        "\n",
        "## Retrieve Data\n",
        "\n",
        "Get one row"
      ]
    },
    {
      "cell_type": "code",
      "metadata": {},
      "source": [
        "starwars[1,]"
      ],
      "execution_count": null,
      "outputs": []
    },
    {
      "cell_type": "markdown",
      "metadata": {},
      "source": [
        "Get one cell"
      ]
    },
    {
      "cell_type": "code",
      "metadata": {},
      "source": [
        "starwars$name[4]"
      ],
      "execution_count": null,
      "outputs": []
    },
    {
      "cell_type": "markdown",
      "metadata": {},
      "source": [
        "Get item in list"
      ]
    },
    {
      "cell_type": "code",
      "metadata": {},
      "source": [
        "print(starwars$starships[1]) \n",
        "starwars$starships[[1]][1]"
      ],
      "execution_count": null,
      "outputs": []
    }
  ],
  "metadata": {
    "kernelspec": {
      "name": "ir",
      "language": "R",
      "display_name": "R",
      "path": "C:\\ProgramData\\jupyter\\kernels\\ir"
    }
  },
  "nbformat": 4,
  "nbformat_minor": 4
}